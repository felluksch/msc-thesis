{
 "cells": [
  {
   "cell_type": "code",
   "execution_count": 1,
   "metadata": {},
   "outputs": [
    {
     "data": {
      "text/plain": [
       "\"output_f_long_1000.csv\""
      ]
     },
     "execution_count": 1,
     "metadata": {},
     "output_type": "execute_result"
    }
   ],
   "source": [
    "using CSV, DataFrames\n",
    "\n",
    "output_a = CSV.read(\"model_output_a.csv\")\n",
    "output_f = CSV.read(\"model_output_f.csv\")\n",
    "\n",
    "output_a_500 = output_a[output_a.distance_straight .> 500, :]\n",
    "output_f_500 = output_f[output_f.distance_straight .> 500, :]\n",
    "output_a_1000 = output_a[output_a.distance_straight .> 1000, :]\n",
    "output_f_1000 = output_f[output_f.distance_straight .> 1000, :]\n",
    "\n",
    "types = [\"lcp_1\", \"lcp_1_5\", \"lcp_2\", \"lcp_3\", \"lcp_4\", \"lcp_5\", \"lcp_6\", \"lcp_7\", \"lcp_8\", \"lcp_9\", \"lcp_10\", \"actual\", \"random\", \"straight\"]\n",
    "\n",
    "function reshape_df(df::DataFrame)\n",
    "\n",
    "    df_long = DataFrame(:segment => String[], :path_type => String[], :npdi => Float64[], :sinuosity => Float64[], \n",
    "        :costs_per_m_1 => Float64[], :costs_per_m_1_5 => Float64[], :costs_per_m_2 => Float64[], \n",
    "        :costs_per_m_3 => Float64[], :costs_per_m_4 => Float64[], :costs_per_m_5 => Float64[],\n",
    "        :costs_per_m_6 => Float64[], :costs_per_m_7 => Float64[], :costs_per_m_8 => Float64[],\n",
    "        :costs_per_m_9 => Float64[], :costs_per_m_10 => Float64[], :distance => Float64[])\n",
    "    \n",
    "    for r in 1:nrow(df)\n",
    "        for t in types\n",
    "            cpm = startswith(t, \"lcp\") ? \"lcp\" : t\n",
    "            npdi = t == \"actual\" ? 0 : df[\"npdi_actual_\" * t][r]\n",
    "            sinuosity = t == \"straight\" ? 1 : df[\"sinuosity_\" * t][r]\n",
    "            #println(df[\"costs_per_m_\" * cpm * \"_1\"][r])\n",
    "            #println(df[\"costs_per_m_\" * cpm * \"_5\"][r])\n",
    "            push!(df_long, [df.segment[r], t, npdi, sinuosity, \n",
    "                    startswith(t, \"lcp\") && !endswith(t, \"1\") ? NaN : df[\"costs_per_m_\" * cpm * \"_1\"][r], \n",
    "                    startswith(t, \"lcp\") && !endswith(t, \"1_5\") ? NaN : df[\"costs_per_m_\" * cpm * \"_1_5\"][r], \n",
    "                    startswith(t, \"lcp\") && !endswith(t, \"2\") ? NaN : df[\"costs_per_m_\" * cpm * \"_2\"][r], \n",
    "                    startswith(t, \"lcp\") && !endswith(t, \"3\") ? NaN : df[\"costs_per_m_\" * cpm * \"_3\"][r], \n",
    "                    startswith(t, \"lcp\") && !endswith(t, \"4\") ? NaN : df[\"costs_per_m_\" * cpm * \"_4\"][r], \n",
    "                    startswith(t, \"lcp\") && !endswith(t, \"5\") ? NaN : df[\"costs_per_m_\" * cpm * \"_5\"][r], \n",
    "                    startswith(t, \"lcp\") && !endswith(t, \"6\") ? NaN : df[\"costs_per_m_\" * cpm * \"_6\"][r], \n",
    "                    startswith(t, \"lcp\") && !endswith(t, \"7\") ? NaN : df[\"costs_per_m_\" * cpm * \"_7\"][r], \n",
    "                    startswith(t, \"lcp\") && !endswith(t, \"8\") ? NaN : df[\"costs_per_m_\" * cpm * \"_8\"][r], \n",
    "                    startswith(t, \"lcp\") && !endswith(t, \"9\") ? NaN : df[\"costs_per_m_\" * cpm * \"_9\"][r], \n",
    "                    startswith(t, \"lcp\") && !endswith(t, \"10\") ? NaN : df[\"costs_per_m_\" * cpm * \"_10\"][r], \n",
    "                    df[\"distance_\" * t][r]])\n",
    "        end\n",
    "    end\n",
    "    \n",
    "    return df_long\n",
    "    \n",
    "end\n",
    "\n",
    "a_long = reshape_df(output_a)\n",
    "f_long = reshape_df(output_f)\n",
    "\n",
    "CSV.write(\"output_a_long.csv\", a_long)\n",
    "CSV.write(\"output_f_long.csv\", f_long)\n",
    "\n",
    "a_long_500 = reshape_df(output_a_500)\n",
    "f_long_500 = reshape_df(output_f_500)\n",
    "\n",
    "CSV.write(\"output_a_long_500.csv\", a_long_500)\n",
    "CSV.write(\"output_f_long_500.csv\", f_long_500)\n",
    "\n",
    "a_long_1000 = reshape_df(output_a_1000)\n",
    "f_long_1000 = reshape_df(output_f_1000)\n",
    "\n",
    "CSV.write(\"output_a_long_1000.csv\", a_long_1000)\n",
    "CSV.write(\"output_f_long_1000.csv\", f_long_1000)"
   ]
  }
 ],
 "metadata": {
  "kernelspec": {
   "display_name": "Julia 1.5.0",
   "language": "julia",
   "name": "julia-1.5"
  },
  "language_info": {
   "file_extension": ".jl",
   "mimetype": "application/julia",
   "name": "julia",
   "version": "1.5.0"
  }
 },
 "nbformat": 4,
 "nbformat_minor": 2
}
