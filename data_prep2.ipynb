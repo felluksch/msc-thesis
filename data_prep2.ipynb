{
 "cells": [
  {
   "cell_type": "markdown",
   "metadata": {},
   "source": [
    "We load our points data set (see *data_prep1*) and the DEM (resolution 30x30)."
   ]
  },
  {
   "cell_type": "code",
   "execution_count": 1,
   "metadata": {},
   "outputs": [
    {
     "data": {
      "text/plain": [
       "(206, 327, 1)"
      ]
     },
     "execution_count": 1,
     "metadata": {},
     "output_type": "execute_result"
    }
   ],
   "source": [
    "using CSV, DataFrames, GeoArrays\n",
    "\n",
    "points_a = CSV.read(\"data/points_a.csv\")\n",
    "points_f = CSV.read(\"data/points_f.csv\")\n",
    "aster = GeoArrays.read(\"data/aster_clipped.tif\") # from https://gdemdl.aster.jspacesystems.or.jp/index_en.html\n",
    "bounds = size(aster) # the boundaries (max x and max y) of the DEM"
   ]
  },
  {
   "cell_type": "markdown",
   "metadata": {},
   "source": [
    "Next, we map all geographic coordinates onto the grid and store the corresponding grid coordinates. We remove all segments shorter than 4 raster cells (so roughly 120 m)."
   ]
  },
  {
   "cell_type": "code",
   "execution_count": 2,
   "metadata": {},
   "outputs": [
    {
     "name": "stdout",
     "output_type": "stream",
     "text": [
      "a - number of segments (total): 2458\n",
      "a - number of segments longer than 4 cells: 1163\n",
      "a - number of points (total): 35085\n",
      "a - number of points (segments longer than 4 cells): 29415\n",
      "f - number of segments (total): 731\n",
      "f - number of segments longer than 4 cells: 620\n",
      "f - number of points (total): 33310\n",
      "f - number of points (segments longer than 4 cells): 32367\n"
     ]
    },
    {
     "data": {
      "text/plain": [
       "\"data/points_raster_f.csv\""
      ]
     },
     "execution_count": 2,
     "metadata": {},
     "output_type": "execute_result"
    }
   ],
   "source": [
    "using Query, Dates\n",
    "\n",
    "function process_points(df::DataFrame, suffix::String)\n",
    "    df.index = [indices(aster, [x, y]) for (x,y) in zip(df.lon, df.lat)] # store corresponding raster coordinates\n",
    "    df.xindex = map(x -> x[1], df.index)\n",
    "    df.yindex = map(x -> x[2], df.index)\n",
    "\n",
    "    df.i_xy = [(x, y) for (x, y) in zip(df.xindex, df.yindex)]\n",
    "    replace!(df.altitude, missing => 0)\n",
    "    df.altitude = Float64.(df.altitude)\n",
    "    points_grouped_ = df |> # create df where each row corresponds to one segment, col. i_xy holds an array of waypoints (grid coords)\n",
    "    @groupby(_.segment) |> \n",
    "    @map({segment=key(_), i_xy=vcat(_.i_xy), date=Date(_.datetime[1]), focal=_.focal[1], altitudes=vcat(_.altitude)}) |> \n",
    "    DataFrame\n",
    "\n",
    "    println(suffix, \" - number of segments (total): \", nrow(points_grouped_))\n",
    "    points_grouped = points_grouped_[[abs(x[1][1] - x[end][1]) > 3 || abs(x[1][2] - x[end][2]) > 3 for x in points_grouped_.i_xy], :]\n",
    "    println(suffix, \" - number of segments longer than 4 cells: \", nrow(points_grouped))\n",
    "\n",
    "    println(suffix, \" - number of points (total): \", nrow(df))\n",
    "    points = df[[in(x, points_grouped.segment) for x in df.segment], :]\n",
    "    println(suffix, \" - number of points (segments longer than 4 cells): \", nrow(points))\n",
    "\n",
    "    CSV.write(\"data/points_raster_\" * suffix * \".csv\", points)\n",
    "end\n",
    "\n",
    "process_points(points_a, \"a\")\n",
    "process_points(points_f, \"f\")"
   ]
  }
 ],
 "metadata": {
  "@webio": {
   "lastCommId": null,
   "lastKernelId": null
  },
  "kernelspec": {
   "display_name": "Julia 1.5.0",
   "language": "julia",
   "name": "julia-1.5"
  },
  "language_info": {
   "file_extension": ".jl",
   "mimetype": "application/julia",
   "name": "julia",
   "version": "1.5.0"
  }
 },
 "nbformat": 4,
 "nbformat_minor": 2
}
